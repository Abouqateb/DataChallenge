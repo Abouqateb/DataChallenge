{
 "cells": [
  {
   "cell_type": "code",
   "execution_count": 9,
   "metadata": {},
   "outputs": [
    {
     "ename": "IndentationError",
     "evalue": "expected an indented block (<ipython-input-9-6fbb3063ed99>, line 6)",
     "output_type": "error",
     "traceback": [
      "\u001b[0;36m  File \u001b[0;32m\"<ipython-input-9-6fbb3063ed99>\"\u001b[0;36m, line \u001b[0;32m6\u001b[0m\n\u001b[0;31m    lescolonnes=line[0][j]\u001b[0m\n\u001b[0m              ^\u001b[0m\n\u001b[0;31mIndentationError\u001b[0m\u001b[0;31m:\u001b[0m expected an indented block\n"
     ]
    }
   ],
   "source": [
    "import csv\n",
    "with open ('data1.csv','r') as csv_file:\n",
    "           csv_reader = csv.reader(csv_file)\n",
    "           for line in csv_reader:\n",
    "                for j in csv_reader:\n",
    "                lescolonnes=line[0][j]\n",
    "                print(lescolonnes)"
   ]
  },
  {
   "cell_type": "code",
   "execution_count": null,
   "metadata": {},
   "outputs": [],
   "source": [
    "import csv\n",
    "import matplotlib.pyplot as plt\n",
    "import numpy as np\n",
    "from download import download\n",
    "import statsmodels.formula.api as ols\n",
    "import time\n",
    "import cvxpy as cp\n",
    "import statsmodels.api as sm\n",
    "from pathlib import Path\n",
    "import pandas as pd\n",
    "import seaborn as sns\n",
    "from sklearn.linear_model import RidgeCV, Ridge\n",
    "import ipywidgets as ip\n",
    "import os\n",
    "import sys\n",
    "url = \"http://josephsalmon.eu/enseignement/datasets/Mesure_journaliere_Region_Occitanie_Polluants_Principaux.csv\"\n",
    "path_target = \"datasets/Mesure_journaliere_Region_Occitanie_Polluants_Principaux.csv\"\n",
    "download(url, path_target, replace=True)\n",
    "occ_raw = pd.read_csv(path_target)\n",
    "occ_raw['date'] = pd.to_datetime(occ_raw['date_debut']).dt.to_period('M')\n",
    "\n",
    "occ = occ_raw.dropna()\n",
    "occ.describe()"
   ]
  }
 ],
 "metadata": {
  "kernelspec": {
   "display_name": "Python 3",
   "language": "python",
   "name": "python3"
  },
  "language_info": {
   "codemirror_mode": {
    "name": "ipython",
    "version": 3
   },
   "file_extension": ".py",
   "mimetype": "text/x-python",
   "name": "python",
   "nbconvert_exporter": "python",
   "pygments_lexer": "ipython3",
   "version": "3.8.5"
  }
 },
 "nbformat": 4,
 "nbformat_minor": 2
}
