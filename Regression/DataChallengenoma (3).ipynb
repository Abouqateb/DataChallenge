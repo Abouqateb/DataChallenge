{
 "cells": [
  {
   "cell_type": "code",
   "execution_count": 18,
   "metadata": {},
   "outputs": [],
   "source": [
    "import pandas as pd\n",
    "import sklearn as sk\n",
    "import numpy as np\n",
    "from sklearn.model_selection import train_test_split\n",
    "import sklearn.linear_model"
   ]
  },
  {
   "cell_type": "code",
   "execution_count": 19,
   "metadata": {},
   "outputs": [],
   "source": [
    "## LOAD , DESCRIBE & FEATURE ENGINEERING"
   ]
  },
  {
   "cell_type": "code",
   "execution_count": 20,
   "metadata": {},
   "outputs": [],
   "source": [
    "Data = pd.read_csv('data1avec.csv')\n",
    "Data1 = pd.read_csv('data1sans.csv')"
   ]
  },
  {
   "cell_type": "code",
   "execution_count": 21,
   "metadata": {},
   "outputs": [
    {
     "data": {
      "text/plain": [
       "valeur_fonciere               0\n",
       "surface_reelle_bati           0\n",
       "nombre_pieces_principales     0\n",
       "longitude                     0\n",
       "latitude                      0\n",
       "population_iris               0\n",
       "pop_15_64_iris                0\n",
       "nb_logement_iris              0\n",
       "tx_pauvrete_iris              0\n",
       "tx_menages_imposables_iris    0\n",
       "dec_med_iris                  0\n",
       "disp_med_iris                 0\n",
       "tx_impot_iris                 0\n",
       "part_rev_act_salarie_iris     0\n",
       "part_rev_chomage_iris         0\n",
       "part_rev_retraites_iris       0\n",
       "tx_emploi_15_64_iris          0\n",
       "tx_cdi_iris                   0\n",
       "nb_generalistes_iris          0\n",
       "nb_paramed_iris               0\n",
       "nb_com_alim_iris              0\n",
       "nb_eq_sportif_iris            0\n",
       "dtype: int64"
      ]
     },
     "execution_count": 21,
     "metadata": {},
     "output_type": "execute_result"
    }
   ],
   "source": [
    "# No missing values\n",
    "Data.isnull().sum()\n",
    "Data1.isnull().sum()"
   ]
  },
  {
   "cell_type": "code",
   "execution_count": 22,
   "metadata": {},
   "outputs": [
    {
     "data": {
      "text/html": [
       "<div>\n",
       "<style scoped>\n",
       "    .dataframe tbody tr th:only-of-type {\n",
       "        vertical-align: middle;\n",
       "    }\n",
       "\n",
       "    .dataframe tbody tr th {\n",
       "        vertical-align: top;\n",
       "    }\n",
       "\n",
       "    .dataframe thead th {\n",
       "        text-align: right;\n",
       "    }\n",
       "</style>\n",
       "<table border=\"1\" class=\"dataframe\">\n",
       "  <thead>\n",
       "    <tr style=\"text-align: right;\">\n",
       "      <th></th>\n",
       "      <th>valeur_fonciere</th>\n",
       "      <th>surface_reelle_bati</th>\n",
       "      <th>nombre_pieces_principales</th>\n",
       "      <th>longitude</th>\n",
       "      <th>latitude</th>\n",
       "      <th>population_iris</th>\n",
       "      <th>pop_15_64_iris</th>\n",
       "      <th>nb_logement_iris</th>\n",
       "      <th>tx_pauvrete_iris</th>\n",
       "      <th>tx_menages_imposables_iris</th>\n",
       "      <th>...</th>\n",
       "      <th>part_rev_act_salarie_iris</th>\n",
       "      <th>part_rev_chomage_iris</th>\n",
       "      <th>part_rev_retraites_iris</th>\n",
       "      <th>tx_emploi_15_64_iris</th>\n",
       "      <th>tx_cdi_iris</th>\n",
       "      <th>nb_generalistes_iris</th>\n",
       "      <th>nb_paramed_iris</th>\n",
       "      <th>nb_com_alim_iris</th>\n",
       "      <th>nb_eq_sportif_iris</th>\n",
       "      <th>densite_population</th>\n",
       "    </tr>\n",
       "  </thead>\n",
       "  <tbody>\n",
       "    <tr>\n",
       "      <th>count</th>\n",
       "      <td>2.544000e+03</td>\n",
       "      <td>2544.000000</td>\n",
       "      <td>2544.000000</td>\n",
       "      <td>2544.000000</td>\n",
       "      <td>2544.000000</td>\n",
       "      <td>2544.000000</td>\n",
       "      <td>2544.000000</td>\n",
       "      <td>2544.000000</td>\n",
       "      <td>2544.000000</td>\n",
       "      <td>2544.000000</td>\n",
       "      <td>...</td>\n",
       "      <td>2544.000000</td>\n",
       "      <td>2544.00000</td>\n",
       "      <td>2544.000000</td>\n",
       "      <td>2544.000000</td>\n",
       "      <td>2544.000000</td>\n",
       "      <td>2544.000000</td>\n",
       "      <td>2544.000000</td>\n",
       "      <td>2544.000000</td>\n",
       "      <td>2544.000000</td>\n",
       "      <td>2544.000000</td>\n",
       "    </tr>\n",
       "    <tr>\n",
       "      <th>mean</th>\n",
       "      <td>2.005756e+05</td>\n",
       "      <td>51.318789</td>\n",
       "      <td>2.102201</td>\n",
       "      <td>3.869989</td>\n",
       "      <td>43.612265</td>\n",
       "      <td>3543.165094</td>\n",
       "      <td>2650.230346</td>\n",
       "      <td>2257.907233</td>\n",
       "      <td>23.899146</td>\n",
       "      <td>51.382755</td>\n",
       "      <td>...</td>\n",
       "      <td>58.731564</td>\n",
       "      <td>4.48581</td>\n",
       "      <td>24.439465</td>\n",
       "      <td>51.949617</td>\n",
       "      <td>76.008498</td>\n",
       "      <td>5.373035</td>\n",
       "      <td>18.289308</td>\n",
       "      <td>8.877752</td>\n",
       "      <td>1.977594</td>\n",
       "      <td>17283.435286</td>\n",
       "    </tr>\n",
       "    <tr>\n",
       "      <th>std</th>\n",
       "      <td>2.529154e+05</td>\n",
       "      <td>35.128820</td>\n",
       "      <td>1.280764</td>\n",
       "      <td>0.023835</td>\n",
       "      <td>0.018372</td>\n",
       "      <td>1142.826481</td>\n",
       "      <td>954.117472</td>\n",
       "      <td>760.314352</td>\n",
       "      <td>8.877314</td>\n",
       "      <td>9.366024</td>\n",
       "      <td>...</td>\n",
       "      <td>7.652110</td>\n",
       "      <td>1.43036</td>\n",
       "      <td>7.372983</td>\n",
       "      <td>8.638539</td>\n",
       "      <td>7.840242</td>\n",
       "      <td>4.125108</td>\n",
       "      <td>10.682695</td>\n",
       "      <td>8.030050</td>\n",
       "      <td>2.267911</td>\n",
       "      <td>10803.982768</td>\n",
       "    </tr>\n",
       "    <tr>\n",
       "      <th>min</th>\n",
       "      <td>5.000000e+02</td>\n",
       "      <td>1.000000</td>\n",
       "      <td>0.000000</td>\n",
       "      <td>3.811729</td>\n",
       "      <td>43.529530</td>\n",
       "      <td>456.000000</td>\n",
       "      <td>332.000000</td>\n",
       "      <td>200.000000</td>\n",
       "      <td>0.000000</td>\n",
       "      <td>11.125158</td>\n",
       "      <td>...</td>\n",
       "      <td>37.500000</td>\n",
       "      <td>1.90000</td>\n",
       "      <td>10.300000</td>\n",
       "      <td>28.641371</td>\n",
       "      <td>60.145808</td>\n",
       "      <td>0.000000</td>\n",
       "      <td>0.000000</td>\n",
       "      <td>0.000000</td>\n",
       "      <td>0.000000</td>\n",
       "      <td>127.327710</td>\n",
       "    </tr>\n",
       "    <tr>\n",
       "      <th>25%</th>\n",
       "      <td>8.500000e+04</td>\n",
       "      <td>27.000000</td>\n",
       "      <td>1.000000</td>\n",
       "      <td>3.854352</td>\n",
       "      <td>43.603172</td>\n",
       "      <td>2544.000000</td>\n",
       "      <td>1881.000000</td>\n",
       "      <td>1671.000000</td>\n",
       "      <td>17.987354</td>\n",
       "      <td>45.231350</td>\n",
       "      <td>...</td>\n",
       "      <td>52.600000</td>\n",
       "      <td>3.50000</td>\n",
       "      <td>19.900000</td>\n",
       "      <td>47.125621</td>\n",
       "      <td>69.463869</td>\n",
       "      <td>3.000000</td>\n",
       "      <td>10.000000</td>\n",
       "      <td>3.000000</td>\n",
       "      <td>0.000000</td>\n",
       "      <td>9931.561356</td>\n",
       "    </tr>\n",
       "    <tr>\n",
       "      <th>50%</th>\n",
       "      <td>1.325000e+05</td>\n",
       "      <td>45.000000</td>\n",
       "      <td>2.000000</td>\n",
       "      <td>3.870722</td>\n",
       "      <td>43.609169</td>\n",
       "      <td>3521.000000</td>\n",
       "      <td>2452.000000</td>\n",
       "      <td>2076.000000</td>\n",
       "      <td>22.804610</td>\n",
       "      <td>52.788845</td>\n",
       "      <td>...</td>\n",
       "      <td>58.400000</td>\n",
       "      <td>4.10000</td>\n",
       "      <td>23.400000</td>\n",
       "      <td>51.545972</td>\n",
       "      <td>76.890756</td>\n",
       "      <td>4.000000</td>\n",
       "      <td>18.000000</td>\n",
       "      <td>6.000000</td>\n",
       "      <td>1.000000</td>\n",
       "      <td>15788.636002</td>\n",
       "    </tr>\n",
       "    <tr>\n",
       "      <th>75%</th>\n",
       "      <td>2.047000e+05</td>\n",
       "      <td>67.000000</td>\n",
       "      <td>3.000000</td>\n",
       "      <td>3.884799</td>\n",
       "      <td>43.620964</td>\n",
       "      <td>4567.000000</td>\n",
       "      <td>3522.000000</td>\n",
       "      <td>2939.000000</td>\n",
       "      <td>27.592536</td>\n",
       "      <td>56.368821</td>\n",
       "      <td>...</td>\n",
       "      <td>62.800000</td>\n",
       "      <td>5.10000</td>\n",
       "      <td>27.700000</td>\n",
       "      <td>57.903331</td>\n",
       "      <td>81.989708</td>\n",
       "      <td>7.000000</td>\n",
       "      <td>27.000000</td>\n",
       "      <td>13.250000</td>\n",
       "      <td>3.000000</td>\n",
       "      <td>22537.004616</td>\n",
       "    </tr>\n",
       "    <tr>\n",
       "      <th>max</th>\n",
       "      <td>1.952467e+06</td>\n",
       "      <td>544.000000</td>\n",
       "      <td>7.000000</td>\n",
       "      <td>3.976996</td>\n",
       "      <td>43.703117</td>\n",
       "      <td>6204.000000</td>\n",
       "      <td>4949.000000</td>\n",
       "      <td>3803.000000</td>\n",
       "      <td>63.711861</td>\n",
       "      <td>73.751452</td>\n",
       "      <td>...</td>\n",
       "      <td>77.700000</td>\n",
       "      <td>13.60000</td>\n",
       "      <td>45.900000</td>\n",
       "      <td>70.028011</td>\n",
       "      <td>90.191083</td>\n",
       "      <td>17.000000</td>\n",
       "      <td>55.000000</td>\n",
       "      <td>39.000000</td>\n",
       "      <td>15.000000</td>\n",
       "      <td>82763.011300</td>\n",
       "    </tr>\n",
       "  </tbody>\n",
       "</table>\n",
       "<p>8 rows × 23 columns</p>\n",
       "</div>"
      ],
      "text/plain": [
       "       valeur_fonciere  surface_reelle_bati  nombre_pieces_principales  \\\n",
       "count     2.544000e+03          2544.000000                2544.000000   \n",
       "mean      2.005756e+05            51.318789                   2.102201   \n",
       "std       2.529154e+05            35.128820                   1.280764   \n",
       "min       5.000000e+02             1.000000                   0.000000   \n",
       "25%       8.500000e+04            27.000000                   1.000000   \n",
       "50%       1.325000e+05            45.000000                   2.000000   \n",
       "75%       2.047000e+05            67.000000                   3.000000   \n",
       "max       1.952467e+06           544.000000                   7.000000   \n",
       "\n",
       "         longitude     latitude  population_iris  pop_15_64_iris  \\\n",
       "count  2544.000000  2544.000000      2544.000000     2544.000000   \n",
       "mean      3.869989    43.612265      3543.165094     2650.230346   \n",
       "std       0.023835     0.018372      1142.826481      954.117472   \n",
       "min       3.811729    43.529530       456.000000      332.000000   \n",
       "25%       3.854352    43.603172      2544.000000     1881.000000   \n",
       "50%       3.870722    43.609169      3521.000000     2452.000000   \n",
       "75%       3.884799    43.620964      4567.000000     3522.000000   \n",
       "max       3.976996    43.703117      6204.000000     4949.000000   \n",
       "\n",
       "       nb_logement_iris  tx_pauvrete_iris  tx_menages_imposables_iris  ...  \\\n",
       "count       2544.000000       2544.000000                 2544.000000  ...   \n",
       "mean        2257.907233         23.899146                   51.382755  ...   \n",
       "std          760.314352          8.877314                    9.366024  ...   \n",
       "min          200.000000          0.000000                   11.125158  ...   \n",
       "25%         1671.000000         17.987354                   45.231350  ...   \n",
       "50%         2076.000000         22.804610                   52.788845  ...   \n",
       "75%         2939.000000         27.592536                   56.368821  ...   \n",
       "max         3803.000000         63.711861                   73.751452  ...   \n",
       "\n",
       "       part_rev_act_salarie_iris  part_rev_chomage_iris  \\\n",
       "count                2544.000000             2544.00000   \n",
       "mean                   58.731564                4.48581   \n",
       "std                     7.652110                1.43036   \n",
       "min                    37.500000                1.90000   \n",
       "25%                    52.600000                3.50000   \n",
       "50%                    58.400000                4.10000   \n",
       "75%                    62.800000                5.10000   \n",
       "max                    77.700000               13.60000   \n",
       "\n",
       "       part_rev_retraites_iris  tx_emploi_15_64_iris  tx_cdi_iris  \\\n",
       "count              2544.000000           2544.000000  2544.000000   \n",
       "mean                 24.439465             51.949617    76.008498   \n",
       "std                   7.372983              8.638539     7.840242   \n",
       "min                  10.300000             28.641371    60.145808   \n",
       "25%                  19.900000             47.125621    69.463869   \n",
       "50%                  23.400000             51.545972    76.890756   \n",
       "75%                  27.700000             57.903331    81.989708   \n",
       "max                  45.900000             70.028011    90.191083   \n",
       "\n",
       "       nb_generalistes_iris  nb_paramed_iris  nb_com_alim_iris  \\\n",
       "count           2544.000000      2544.000000       2544.000000   \n",
       "mean               5.373035        18.289308          8.877752   \n",
       "std                4.125108        10.682695          8.030050   \n",
       "min                0.000000         0.000000          0.000000   \n",
       "25%                3.000000        10.000000          3.000000   \n",
       "50%                4.000000        18.000000          6.000000   \n",
       "75%                7.000000        27.000000         13.250000   \n",
       "max               17.000000        55.000000         39.000000   \n",
       "\n",
       "       nb_eq_sportif_iris  densite_population  \n",
       "count         2544.000000         2544.000000  \n",
       "mean             1.977594        17283.435286  \n",
       "std              2.267911        10803.982768  \n",
       "min              0.000000          127.327710  \n",
       "25%              0.000000         9931.561356  \n",
       "50%              1.000000        15788.636002  \n",
       "75%              3.000000        22537.004616  \n",
       "max             15.000000        82763.011300  \n",
       "\n",
       "[8 rows x 23 columns]"
      ]
     },
     "execution_count": 22,
     "metadata": {},
     "output_type": "execute_result"
    }
   ],
   "source": [
    "Data.describe()"
   ]
  },
  {
   "cell_type": "code",
   "execution_count": 23,
   "metadata": {},
   "outputs": [
    {
     "data": {
      "text/html": [
       "<div>\n",
       "<style scoped>\n",
       "    .dataframe tbody tr th:only-of-type {\n",
       "        vertical-align: middle;\n",
       "    }\n",
       "\n",
       "    .dataframe tbody tr th {\n",
       "        vertical-align: top;\n",
       "    }\n",
       "\n",
       "    .dataframe thead th {\n",
       "        text-align: right;\n",
       "    }\n",
       "</style>\n",
       "<table border=\"1\" class=\"dataframe\">\n",
       "  <thead>\n",
       "    <tr style=\"text-align: right;\">\n",
       "      <th></th>\n",
       "      <th>valeur_fonciere</th>\n",
       "      <th>surface_reelle_bati</th>\n",
       "      <th>nombre_pieces_principales</th>\n",
       "      <th>longitude</th>\n",
       "      <th>latitude</th>\n",
       "      <th>population_iris</th>\n",
       "      <th>pop_15_64_iris</th>\n",
       "      <th>nb_logement_iris</th>\n",
       "      <th>tx_pauvrete_iris</th>\n",
       "      <th>tx_menages_imposables_iris</th>\n",
       "      <th>...</th>\n",
       "      <th>tx_impot_iris</th>\n",
       "      <th>part_rev_act_salarie_iris</th>\n",
       "      <th>part_rev_chomage_iris</th>\n",
       "      <th>part_rev_retraites_iris</th>\n",
       "      <th>tx_emploi_15_64_iris</th>\n",
       "      <th>tx_cdi_iris</th>\n",
       "      <th>nb_generalistes_iris</th>\n",
       "      <th>nb_paramed_iris</th>\n",
       "      <th>nb_com_alim_iris</th>\n",
       "      <th>nb_eq_sportif_iris</th>\n",
       "    </tr>\n",
       "  </thead>\n",
       "  <tbody>\n",
       "    <tr>\n",
       "      <th>count</th>\n",
       "      <td>2.543000e+03</td>\n",
       "      <td>2543.000000</td>\n",
       "      <td>2543.000000</td>\n",
       "      <td>2543.000000</td>\n",
       "      <td>2543.000000</td>\n",
       "      <td>2543.000000</td>\n",
       "      <td>2543.000000</td>\n",
       "      <td>2543.000000</td>\n",
       "      <td>2543.000000</td>\n",
       "      <td>2543.000000</td>\n",
       "      <td>...</td>\n",
       "      <td>2543.000000</td>\n",
       "      <td>2543.000000</td>\n",
       "      <td>2543.000000</td>\n",
       "      <td>2543.000000</td>\n",
       "      <td>2543.000000</td>\n",
       "      <td>2543.000000</td>\n",
       "      <td>2543.000000</td>\n",
       "      <td>2543.000000</td>\n",
       "      <td>2543.000000</td>\n",
       "      <td>2543.000000</td>\n",
       "    </tr>\n",
       "    <tr>\n",
       "      <th>mean</th>\n",
       "      <td>2.073042e+05</td>\n",
       "      <td>52.019662</td>\n",
       "      <td>2.114825</td>\n",
       "      <td>3.869222</td>\n",
       "      <td>43.612838</td>\n",
       "      <td>3536.104208</td>\n",
       "      <td>2640.593000</td>\n",
       "      <td>2244.650806</td>\n",
       "      <td>23.788903</td>\n",
       "      <td>51.576760</td>\n",
       "      <td>...</td>\n",
       "      <td>18.244908</td>\n",
       "      <td>58.672788</td>\n",
       "      <td>4.464373</td>\n",
       "      <td>24.423162</td>\n",
       "      <td>51.917722</td>\n",
       "      <td>75.941101</td>\n",
       "      <td>5.359418</td>\n",
       "      <td>18.327959</td>\n",
       "      <td>8.792764</td>\n",
       "      <td>1.952812</td>\n",
       "    </tr>\n",
       "    <tr>\n",
       "      <th>std</th>\n",
       "      <td>2.586962e+05</td>\n",
       "      <td>36.602846</td>\n",
       "      <td>1.291574</td>\n",
       "      <td>0.023476</td>\n",
       "      <td>0.017848</td>\n",
       "      <td>1118.516346</td>\n",
       "      <td>933.726782</td>\n",
       "      <td>742.607646</td>\n",
       "      <td>9.097436</td>\n",
       "      <td>9.611279</td>\n",
       "      <td>...</td>\n",
       "      <td>3.570822</td>\n",
       "      <td>7.765126</td>\n",
       "      <td>1.468571</td>\n",
       "      <td>7.446519</td>\n",
       "      <td>8.676943</td>\n",
       "      <td>7.706022</td>\n",
       "      <td>4.050113</td>\n",
       "      <td>10.743056</td>\n",
       "      <td>8.050778</td>\n",
       "      <td>2.266502</td>\n",
       "    </tr>\n",
       "    <tr>\n",
       "      <th>min</th>\n",
       "      <td>5.000000e+02</td>\n",
       "      <td>1.000000</td>\n",
       "      <td>0.000000</td>\n",
       "      <td>3.812804</td>\n",
       "      <td>43.531010</td>\n",
       "      <td>456.000000</td>\n",
       "      <td>332.000000</td>\n",
       "      <td>200.000000</td>\n",
       "      <td>0.000000</td>\n",
       "      <td>11.125158</td>\n",
       "      <td>...</td>\n",
       "      <td>5.000000</td>\n",
       "      <td>37.500000</td>\n",
       "      <td>1.900000</td>\n",
       "      <td>10.300000</td>\n",
       "      <td>28.641371</td>\n",
       "      <td>60.145808</td>\n",
       "      <td>0.000000</td>\n",
       "      <td>0.000000</td>\n",
       "      <td>0.000000</td>\n",
       "      <td>0.000000</td>\n",
       "    </tr>\n",
       "    <tr>\n",
       "      <th>25%</th>\n",
       "      <td>8.600000e+04</td>\n",
       "      <td>27.000000</td>\n",
       "      <td>1.000000</td>\n",
       "      <td>3.852800</td>\n",
       "      <td>43.603539</td>\n",
       "      <td>2544.000000</td>\n",
       "      <td>1906.000000</td>\n",
       "      <td>1671.000000</td>\n",
       "      <td>17.786561</td>\n",
       "      <td>45.488899</td>\n",
       "      <td>...</td>\n",
       "      <td>16.200000</td>\n",
       "      <td>52.600000</td>\n",
       "      <td>3.500000</td>\n",
       "      <td>19.900000</td>\n",
       "      <td>46.930281</td>\n",
       "      <td>69.463869</td>\n",
       "      <td>3.000000</td>\n",
       "      <td>9.500000</td>\n",
       "      <td>3.000000</td>\n",
       "      <td>0.000000</td>\n",
       "    </tr>\n",
       "    <tr>\n",
       "      <th>50%</th>\n",
       "      <td>1.360000e+05</td>\n",
       "      <td>46.000000</td>\n",
       "      <td>2.000000</td>\n",
       "      <td>3.870717</td>\n",
       "      <td>43.609951</td>\n",
       "      <td>3521.000000</td>\n",
       "      <td>2452.000000</td>\n",
       "      <td>2076.000000</td>\n",
       "      <td>22.749579</td>\n",
       "      <td>52.788845</td>\n",
       "      <td>...</td>\n",
       "      <td>18.400000</td>\n",
       "      <td>58.400000</td>\n",
       "      <td>4.100000</td>\n",
       "      <td>23.400000</td>\n",
       "      <td>51.545972</td>\n",
       "      <td>76.890756</td>\n",
       "      <td>5.000000</td>\n",
       "      <td>17.000000</td>\n",
       "      <td>6.000000</td>\n",
       "      <td>1.000000</td>\n",
       "    </tr>\n",
       "    <tr>\n",
       "      <th>75%</th>\n",
       "      <td>2.070000e+05</td>\n",
       "      <td>68.000000</td>\n",
       "      <td>3.000000</td>\n",
       "      <td>3.884139</td>\n",
       "      <td>43.621059</td>\n",
       "      <td>4567.000000</td>\n",
       "      <td>3522.000000</td>\n",
       "      <td>2893.000000</td>\n",
       "      <td>27.408679</td>\n",
       "      <td>56.368821</td>\n",
       "      <td>...</td>\n",
       "      <td>20.400000</td>\n",
       "      <td>62.800000</td>\n",
       "      <td>5.100000</td>\n",
       "      <td>27.700000</td>\n",
       "      <td>57.903331</td>\n",
       "      <td>81.989708</td>\n",
       "      <td>7.500000</td>\n",
       "      <td>27.000000</td>\n",
       "      <td>13.000000</td>\n",
       "      <td>3.000000</td>\n",
       "    </tr>\n",
       "    <tr>\n",
       "      <th>max</th>\n",
       "      <td>1.952467e+06</td>\n",
       "      <td>544.000000</td>\n",
       "      <td>7.000000</td>\n",
       "      <td>3.976996</td>\n",
       "      <td>43.703117</td>\n",
       "      <td>6204.000000</td>\n",
       "      <td>4949.000000</td>\n",
       "      <td>3803.000000</td>\n",
       "      <td>63.711861</td>\n",
       "      <td>73.751452</td>\n",
       "      <td>...</td>\n",
       "      <td>30.000000</td>\n",
       "      <td>77.700000</td>\n",
       "      <td>13.600000</td>\n",
       "      <td>45.900000</td>\n",
       "      <td>70.028011</td>\n",
       "      <td>90.191083</td>\n",
       "      <td>17.000000</td>\n",
       "      <td>55.000000</td>\n",
       "      <td>39.000000</td>\n",
       "      <td>15.000000</td>\n",
       "    </tr>\n",
       "  </tbody>\n",
       "</table>\n",
       "<p>8 rows × 22 columns</p>\n",
       "</div>"
      ],
      "text/plain": [
       "       valeur_fonciere  surface_reelle_bati  nombre_pieces_principales  \\\n",
       "count     2.543000e+03          2543.000000                2543.000000   \n",
       "mean      2.073042e+05            52.019662                   2.114825   \n",
       "std       2.586962e+05            36.602846                   1.291574   \n",
       "min       5.000000e+02             1.000000                   0.000000   \n",
       "25%       8.600000e+04            27.000000                   1.000000   \n",
       "50%       1.360000e+05            46.000000                   2.000000   \n",
       "75%       2.070000e+05            68.000000                   3.000000   \n",
       "max       1.952467e+06           544.000000                   7.000000   \n",
       "\n",
       "         longitude     latitude  population_iris  pop_15_64_iris  \\\n",
       "count  2543.000000  2543.000000      2543.000000     2543.000000   \n",
       "mean      3.869222    43.612838      3536.104208     2640.593000   \n",
       "std       0.023476     0.017848      1118.516346      933.726782   \n",
       "min       3.812804    43.531010       456.000000      332.000000   \n",
       "25%       3.852800    43.603539      2544.000000     1906.000000   \n",
       "50%       3.870717    43.609951      3521.000000     2452.000000   \n",
       "75%       3.884139    43.621059      4567.000000     3522.000000   \n",
       "max       3.976996    43.703117      6204.000000     4949.000000   \n",
       "\n",
       "       nb_logement_iris  tx_pauvrete_iris  tx_menages_imposables_iris  ...  \\\n",
       "count       2543.000000       2543.000000                 2543.000000  ...   \n",
       "mean        2244.650806         23.788903                   51.576760  ...   \n",
       "std          742.607646          9.097436                    9.611279  ...   \n",
       "min          200.000000          0.000000                   11.125158  ...   \n",
       "25%         1671.000000         17.786561                   45.488899  ...   \n",
       "50%         2076.000000         22.749579                   52.788845  ...   \n",
       "75%         2893.000000         27.408679                   56.368821  ...   \n",
       "max         3803.000000         63.711861                   73.751452  ...   \n",
       "\n",
       "       tx_impot_iris  part_rev_act_salarie_iris  part_rev_chomage_iris  \\\n",
       "count    2543.000000                2543.000000            2543.000000   \n",
       "mean       18.244908                  58.672788               4.464373   \n",
       "std         3.570822                   7.765126               1.468571   \n",
       "min         5.000000                  37.500000               1.900000   \n",
       "25%        16.200000                  52.600000               3.500000   \n",
       "50%        18.400000                  58.400000               4.100000   \n",
       "75%        20.400000                  62.800000               5.100000   \n",
       "max        30.000000                  77.700000              13.600000   \n",
       "\n",
       "       part_rev_retraites_iris  tx_emploi_15_64_iris  tx_cdi_iris  \\\n",
       "count              2543.000000           2543.000000  2543.000000   \n",
       "mean                 24.423162             51.917722    75.941101   \n",
       "std                   7.446519              8.676943     7.706022   \n",
       "min                  10.300000             28.641371    60.145808   \n",
       "25%                  19.900000             46.930281    69.463869   \n",
       "50%                  23.400000             51.545972    76.890756   \n",
       "75%                  27.700000             57.903331    81.989708   \n",
       "max                  45.900000             70.028011    90.191083   \n",
       "\n",
       "       nb_generalistes_iris  nb_paramed_iris  nb_com_alim_iris  \\\n",
       "count           2543.000000      2543.000000       2543.000000   \n",
       "mean               5.359418        18.327959          8.792764   \n",
       "std                4.050113        10.743056          8.050778   \n",
       "min                0.000000         0.000000          0.000000   \n",
       "25%                3.000000         9.500000          3.000000   \n",
       "50%                5.000000        17.000000          6.000000   \n",
       "75%                7.500000        27.000000         13.000000   \n",
       "max               17.000000        55.000000         39.000000   \n",
       "\n",
       "       nb_eq_sportif_iris  \n",
       "count         2543.000000  \n",
       "mean             1.952812  \n",
       "std              2.266502  \n",
       "min              0.000000  \n",
       "25%              0.000000  \n",
       "50%              1.000000  \n",
       "75%              3.000000  \n",
       "max             15.000000  \n",
       "\n",
       "[8 rows x 22 columns]"
      ]
     },
     "execution_count": 23,
     "metadata": {},
     "output_type": "execute_result"
    }
   ],
   "source": [
    "Data1.describe()"
   ]
  },
  {
   "cell_type": "code",
   "execution_count": 24,
   "metadata": {},
   "outputs": [
    {
     "data": {
      "text/plain": [
       "(2543, 22)"
      ]
     },
     "execution_count": 24,
     "metadata": {},
     "output_type": "execute_result"
    }
   ],
   "source": [
    "Data.shape\n",
    "Data1.shape"
   ]
  },
  {
   "cell_type": "code",
   "execution_count": 25,
   "metadata": {},
   "outputs": [],
   "source": [
    "#If Data Is Gaussian:\n",
    "\n",
    "#Use Parametric Statistical Methods    \n",
    "#Else:\n",
    "\n",
    "#Use Nonparametric Statistical Methods"
   ]
  },
  {
   "cell_type": "code",
   "execution_count": 26,
   "metadata": {},
   "outputs": [],
   "source": [
    "X, y =  Data.loc[:, Data.columns != 'valeur_fonciere'], Data['valeur_fonciere']"
   ]
  },
  {
   "cell_type": "code",
   "execution_count": 27,
   "metadata": {},
   "outputs": [
    {
     "name": "stdout",
     "output_type": "stream",
     "text": [
      "False\n",
      "surface_reelle_bati           True\n",
      "nombre_pieces_principales     True\n",
      "longitude                     True\n",
      "latitude                      True\n",
      "population_iris               True\n",
      "pop_15_64_iris                True\n",
      "nb_logement_iris              True\n",
      "tx_pauvrete_iris              True\n",
      "tx_menages_imposables_iris    True\n",
      "dec_med_iris                  True\n",
      "disp_med_iris                 True\n",
      "tx_impot_iris                 True\n",
      "part_rev_act_salarie_iris     True\n",
      "part_rev_chomage_iris         True\n",
      "part_rev_retraites_iris       True\n",
      "tx_emploi_15_64_iris          True\n",
      "tx_cdi_iris                   True\n",
      "nb_generalistes_iris          True\n",
      "nb_paramed_iris               True\n",
      "nb_com_alim_iris              True\n",
      "nb_eq_sportif_iris            True\n",
      "densite_population            True\n",
      "dtype: bool\n"
     ]
    }
   ],
   "source": [
    "from scipy import stats\n",
    "\n",
    "test_normality = lambda X: stats.shapiro(X.fillna(0))[1] < 0.01\n",
    "normal = pd.DataFrame(X)\n",
    "normal = normal.apply(test_normality)\n",
    "print(not normal.any())\n"
   ]
  },
  {
   "cell_type": "code",
   "execution_count": 28,
   "metadata": {},
   "outputs": [],
   "source": [
    "import seaborn as sns\n",
    "color = sns.color_palette()\n",
    "sns.set_style('darkgrid')\n",
    "import warnings\n",
    "def ignore_warn(*args, **kwargs):\n",
    "    pass\n",
    "warnings.warn = ignore_warn #ignore annoying warning (from sklearn and seaborn)\n",
    "\n",
    "from scipy import stats\n",
    "from scipy.stats import norm, skew #for some statistics\n",
    "\n",
    "import matplotlib.pyplot as plt #plots"
   ]
  },
  {
   "cell_type": "code",
   "execution_count": 29,
   "metadata": {},
   "outputs": [],
   "source": [
    "### TARGET DESCRIBE\n"
   ]
  },
  {
   "cell_type": "code",
   "execution_count": 30,
   "metadata": {},
   "outputs": [
    {
     "name": "stdout",
     "output_type": "stream",
     "text": [
      "\n",
      " mu = 200575.61 and sigma = 252865.71\n",
      "\n"
     ]
    },
    {
     "data": {
      "image/png": "[encoded data removed]",
      "text/plain": [
       "<Figure size 432x288 with 1 Axes>"
      ]
     },
     "metadata": {},
     "output_type": "display_data"
    },
    {
     "data": {
      "image/png": "[encoded data removed]",
      "text/plain": [
       "<Figure size 432x288 with 1 Axes>"
      ]
     },
     "metadata": {},
     "output_type": "display_data"
    }
   ],
   "source": [
    "sns.distplot(y , fit=norm);\n",
    "\n",
    "# Get the fitted parameters used by the function\n",
    "(mu, sigma) = norm.fit(y)\n",
    "print( '\\n mu = {:.2f} and sigma = {:.2f}\\n'.format(mu, sigma))\n",
    "\n",
    "#Now plot the distribution\n",
    "plt.legend(['Normal dist. ($\\mu=$ {:.2f} and $\\sigma=$ {:.2f} )'.format(mu, sigma)],\n",
    "            loc='best')\n",
    "plt.ylabel('Frequency')\n",
    "plt.title('SalePrice distribution')\n",
    "\n",
    "#Get also the QQ-plot\n",
    "fig = plt.figure()\n",
    "res = stats.probplot(y, plot= plt)\n",
    "plt.show()"
   ]
  },
  {
   "cell_type": "code",
   "execution_count": 31,
   "metadata": {},
   "outputs": [
    {
     "ename": "SyntaxError",
     "evalue": "invalid syntax (<ipython-input-31-c3dc4ff110fb>, line 1)",
     "output_type": "error",
     "traceback": [
      "\u001b[1;36m  File \u001b[1;32m\"<ipython-input-31-c3dc4ff110fb>\"\u001b[1;36m, line \u001b[1;32m1\u001b[0m\n\u001b[1;33m    **Log-TRANSFORM OF THE TARGET**\u001b[0m\n\u001b[1;37m     ^\u001b[0m\n\u001b[1;31mSyntaxError\u001b[0m\u001b[1;31m:\u001b[0m invalid syntax\n"
     ]
    }
   ],
   "source": [
    " **Log-TRANSFORM OF THE TARGET**"
   ]
  },
  {
   "cell_type": "code",
   "execution_count": 32,
   "metadata": {},
   "outputs": [
    {
     "name": "stdout",
     "output_type": "stream",
     "text": [
      "\n",
      " mu = 2.55 and sigma = 0.06\n",
      "\n"
     ]
    },
    {
     "data": {
      "image/png": "[encoded data removed]",
      "text/plain": [
       "<Figure size 432x288 with 1 Axes>"
      ]
     },
     "metadata": {},
     "output_type": "display_data"
    },
    {
     "data": {
      "image/png": "[encoded data removed]",
      "text/plain": [
       "<Figure size 432x288 with 1 Axes>"
      ]
     },
     "metadata": {},
     "output_type": "display_data"
    }
   ],
   "source": [
    "#We use the numpy fuction log1p which  applies log(1+x) to all elements of the column\n",
    "yLog = np.log1p(np.log1p(y))\n",
    "\n",
    "#Check the new distribution \n",
    "sns.distplot(yLog, fit=norm);\n",
    "\n",
    "# Get the fitted parameters used by the function\n",
    "(mu, sigma) = norm.fit(yLog)\n",
    "print( '\\n mu = {:.2f} and sigma = {:.2f}\\n'.format(mu, sigma))\n",
    "\n",
    "#Now plot the distribution\n",
    "plt.legend(['Normal dist. ($\\mu=$ {:.2f} and $\\sigma=$ {:.2f} )'.format(mu, sigma)],\n",
    "            loc='best')\n",
    "plt.ylabel('Frequency')\n",
    "plt.title('SalePrice distribution')\n",
    "\n",
    "#Get also the QQ-plot\n",
    "fig = plt.figure()\n",
    "res = stats.probplot(yLog, plot=plt)\n",
    "plt.show()\n"
   ]
  },
  {
   "cell_type": "code",
   "execution_count": 33,
   "metadata": {},
   "outputs": [],
   "source": [
    "### Examiner les correlations \n"
   ]
  },
  {
   "cell_type": "code",
   "execution_count": 34,
   "metadata": {},
   "outputs": [
    {
     "data": {
      "text/plain": [
       "<matplotlib.axes._subplots.AxesSubplot at 0x1588f33ec88>"
      ]
     },
     "execution_count": 34,
     "metadata": {},
     "output_type": "execute_result"
    },
    {
     "data": {
      "image/png": "[encoded data removed]",
      "text/plain": [
       "<Figure size 864x648 with 2 Axes>"
      ]
     },
     "metadata": {},
     "output_type": "display_data"
    }
   ],
   "source": [
    "#Correlation map to see how features are correlated with SalePrice\n",
    "import matplotlib.pyplot as plt #plots\n",
    "corrmat = X.corr()\n",
    "plt.subplots(figsize=(12,9))\n",
    "sns.heatmap(corrmat, vmax=0.9, square=True)\n"
   ]
  },
  {
   "cell_type": "code",
   "execution_count": 35,
   "metadata": {},
   "outputs": [],
   "source": [
    "# PCA transform to decorelate"
   ]
  },
  {
   "cell_type": "code",
   "execution_count": 36,
   "metadata": {},
   "outputs": [
    {
     "data": {
      "text/plain": [
       "array([[ 12827.35820635,  -1397.78167431],\n",
       "       [ 12827.35645857,  -1397.77877682],\n",
       "       [ -6554.5276563 ,   3570.66580546],\n",
       "       ...,\n",
       "       [ -5654.66346801,  -6298.09534052],\n",
       "       [-11742.13931887,  -6836.8951209 ],\n",
       "       [-11361.67089257,  -6803.22212024]])"
      ]
     },
     "execution_count": 36,
     "metadata": {},
     "output_type": "execute_result"
    }
   ],
   "source": [
    "from sklearn.decomposition import IncrementalPCA\n",
    "ipca = IncrementalPCA(n_components=2, batch_size=3)\n",
    "ipca.fit(X)\n",
    "IncrementalPCA(batch_size=3, n_components=2)\n",
    "ipca.transform(X) "
   ]
  },
  {
   "cell_type": "code",
   "execution_count": 37,
   "metadata": {},
   "outputs": [],
   "source": [
    "# MODELS"
   ]
  },
  {
   "cell_type": "code",
   "execution_count": 63,
   "metadata": {},
   "outputs": [],
   "source": [
    "#Nous découpons notre jeu de données en deux parties : $78\\%$ pour le Training Set et $22\\%$ pour le Test Set :"
   ]
  },
  {
   "cell_type": "code",
   "execution_count": 66,
   "metadata": {
    "scrolled": true
   },
   "outputs": [
    {
     "name": "stdout",
     "output_type": "stream",
     "text": [
      "Taille du Training Set : 1984\n",
      "Taille du Test Set : 560\n"
     ]
    }
   ],
   "source": [
    "from sklearn.model_selection import train_test_split\n",
    "X_train, X_test, y_train, y_test = train_test_split(X,\n",
    "                                                    y,\n",
    "                                                    test_size=0.22,\n",
    "                                                    random_state=42)\n",
    "\n",
    "print(\"Taille du Training Set :\", len(X_train))\n",
    "print(\"Taille du Test Set :\", len(X_test))\n"
   ]
  },
  {
   "cell_type": "code",
   "execution_count": 55,
   "metadata": {},
   "outputs": [],
   "source": []
  },
  {
   "cell_type": "code",
   "execution_count": 1,
   "metadata": {},
   "outputs": [
    {
     "ename": "NameError",
     "evalue": "name 'X_train' is not defined",
     "output_type": "error",
     "traceback": [
      "\u001b[1;31m---------------------------------------------------------------------------\u001b[0m",
      "\u001b[1;31mNameError\u001b[0m                                 Traceback (most recent call last)",
      "\u001b[1;32m<ipython-input-1-5e63e92f3c8b>\u001b[0m in \u001b[0;36m<module>\u001b[1;34m\u001b[0m\n\u001b[0;32m      6\u001b[0m \u001b[0mcv\u001b[0m\u001b[1;33m=\u001b[0m \u001b[0mKFold\u001b[0m\u001b[1;33m(\u001b[0m\u001b[1;33m)\u001b[0m\u001b[1;33m\u001b[0m\u001b[1;33m\u001b[0m\u001b[0m\n\u001b[0;32m      7\u001b[0m \u001b[1;33m\u001b[0m\u001b[0m\n\u001b[1;32m----> 8\u001b[1;33m \u001b[0mcross_val_score\u001b[0m\u001b[1;33m(\u001b[0m\u001b[0mSGDRegressor\u001b[0m\u001b[1;33m(\u001b[0m\u001b[1;33m)\u001b[0m\u001b[1;33m,\u001b[0m \u001b[0mX_train\u001b[0m\u001b[1;33m,\u001b[0m \u001b[0my_train\u001b[0m\u001b[1;33m,\u001b[0m \u001b[0mcv\u001b[0m\u001b[1;33m=\u001b[0m\u001b[0mcv\u001b[0m\u001b[1;33m)\u001b[0m\u001b[1;33m\u001b[0m\u001b[1;33m\u001b[0m\u001b[0m\n\u001b[0m\u001b[0;32m      9\u001b[0m \u001b[1;33m\u001b[0m\u001b[0m\n",
      "\u001b[1;31mNameError\u001b[0m: name 'X_train' is not defined"
     ]
    }
   ],
   "source": [
    "from sklearn.linear_model import SGDRegressor\n",
    "from sklearn.model_selection import cross_val_score\n",
    "from sklearn.model_selection import validation_curve\n",
    "from sklearn.model_selection import KFold\n",
    "\n",
    "cv= KFold()\n",
    "\n",
    "cross_val_score(SGDRegressor(), X_train, y_train, cv=cv)\n",
    "\n"
   ]
  },
  {
   "cell_type": "code",
   "execution_count": 98,
   "metadata": {},
   "outputs": [
    {
     "data": {
      "text/plain": [
       "(array([5.87635819e+10]),\n",
       " array([-1.46703151e+13,  5.20925800e+12,  2.63994318e+11,  2.59879756e+12,\n",
       "         5.32723837e+13,  1.14844134e+14,  1.63647121e+14, -8.62199952e+12,\n",
       "         5.80181679e+12,  6.21931985e+13, -1.22150517e+13, -1.35017076e+12,\n",
       "        -3.63427690e+12, -1.11247450e+12,  2.14466579e+13,  1.53006339e+13,\n",
       "         1.72069977e+13, -7.24834082e+12, -2.55071445e+13, -2.56131598e+13,\n",
       "        -4.86260395e+12,  1.06227809e+13]))"
      ]
     },
     "execution_count": 98,
     "metadata": {},
     "output_type": "execute_result"
    }
   ],
   "source": [
    "sgd_reg.intercept_, sgd_reg.coef_"
   ]
  },
  {
   "cell_type": "code",
   "execution_count": 87,
   "metadata": {},
   "outputs": [],
   "source": [
    "from sklearn.preprocessing import PolynomialFeatures\n",
    "poly_features = PolynomialFeatures(degree=2, include_bias=False)\n",
    "X_poly = poly_features.fit_transform(X)"
   ]
  },
  {
   "cell_type": "code",
   "execution_count": 88,
   "metadata": {},
   "outputs": [
    {
     "data": {
      "text/plain": [
       "array([[2.70000000e+01, 1.00000000e+00, 3.86795998e+00, ...,\n",
       "        4.00000000e+00, 5.98440236e+04, 8.95326789e+08],\n",
       "       [3.50000000e+01, 1.00000000e+00, 3.86795998e+00, ...,\n",
       "        4.00000000e+00, 5.98440236e+04, 8.95326789e+08],\n",
       "       [1.09000000e+02, 5.00000000e+00, 3.88630509e+00, ...,\n",
       "        1.00000000e+00, 1.10775107e+04, 1.22711244e+08],\n",
       "       ...,\n",
       "       [5.00000000e+01, 2.00000000e+00, 3.86222410e+00, ...,\n",
       "        1.00000000e+00, 1.10775107e+04, 1.22711244e+08],\n",
       "       [4.20000000e+01, 0.00000000e+00, 3.85719800e+00, ...,\n",
       "        1.00000000e+00, 4.96578068e+03, 2.46589777e+07],\n",
       "       [3.70000000e+01, 2.00000000e+00, 3.86513996e+00, ...,\n",
       "        1.00000000e+00, 5.34776381e+03, 2.85985777e+07]])"
      ]
     },
     "execution_count": 88,
     "metadata": {},
     "output_type": "execute_result"
    }
   ],
   "source": [
    "X_poly"
   ]
  },
  {
   "cell_type": "code",
   "execution_count": 89,
   "metadata": {},
   "outputs": [
    {
     "data": {
      "text/plain": [
       "(array([2.03586584e+11]),\n",
       " array([ 5.99764885e+13, -2.00019816e+11,  7.63753134e+11,  8.89451702e+12,\n",
       "         9.11924250e+14,  3.48211719e+14,  2.96906795e+14,  2.21587948e+13,\n",
       "         5.07504294e+12,  2.87128352e+14,  1.02288240e+15,  2.93489371e+12,\n",
       "        -4.51218313e+12,  3.95556476e+12,  9.60851137e+12,  4.91296132e+12,\n",
       "        -5.78667975e+12,  2.93967203e+12,  1.21841273e+13,  9.52747356e+11,\n",
       "        -4.71744140e+12,  5.33849400e+15, -9.84333724e+15,  6.50307880e+13,\n",
       "         2.32013878e+14,  2.62120130e+15,  2.30447480e+17,  1.51177536e+17,\n",
       "         9.54097696e+16,  2.58286928e+15,  2.65192856e+15,  8.45540583e+17,\n",
       "         9.51040245e+17,  1.08691462e+15,  2.48740449e+15,  3.92723081e+14,\n",
       "         1.61202760e+15,  2.49270888e+15,  2.74241255e+15,  2.94134946e+14,\n",
       "         1.00453584e+15, -5.92396764e+14, -1.35954548e+14, -2.95171154e+17,\n",
       "         2.28216993e+12, -7.61639000e+11, -8.52579823e+12,  1.65542744e+15,\n",
       "         1.01404985e+15,  9.31303921e+14,  4.23814902e+13, -3.25563165e+13,\n",
       "        -1.41073792e+16, -1.18915420e+16, -1.16805787e+13, -7.31743603e+13,\n",
       "         3.77389921e+12,  4.05101426e+13, -5.36073689e+13, -1.05176234e+14,\n",
       "         7.55877949e+11,  2.47064176e+13, -4.93792746e+13, -2.10582241e+13,\n",
       "        -1.66579231e+16,  2.86485414e+12,  3.33724383e+13,  3.44413738e+15,\n",
       "         1.29058452e+15,  1.10730100e+15,  8.52822320e+13,  1.80093114e+13,\n",
       "         5.99244910e+14,  3.43794847e+15,  1.06773444e+13, -1.96453205e+13,\n",
       "         1.52702122e+13,  3.73715781e+13,  1.78503901e+13, -2.41856811e+13,\n",
       "         1.14458087e+13,  4.72766791e+13,  3.74080121e+12, -1.84069107e+13,\n",
       "         2.04816428e+16,  3.88594439e+14,  3.98413871e+16,  1.52404136e+16,\n",
       "         1.30225034e+16,  9.67111192e+14,  2.21777052e+14,  1.26950159e+16,\n",
       "         4.48328417e+16,  1.28189067e+14, -1.96354532e+14,  1.72652574e+14,\n",
       "         4.19877297e+14,  2.14833758e+14, -2.51586441e+14,  1.28514530e+14,\n",
       "         5.31807887e+14,  4.20978394e+13, -2.05754498e+14,  2.32367092e+17,\n",
       "        -5.65696181e+17, -2.57998942e+18, -1.36689646e+18,  8.91937834e+16,\n",
       "         2.02341279e+16, -2.64404492e+18,  2.23532972e+18,  4.65326694e+15,\n",
       "        -1.83447034e+16,  1.87409211e+16,  6.07935736e+16,  4.38916650e+16,\n",
       "         1.24199282e+16, -2.17740708e+15, -1.81241312e+16,  1.54185906e+16,\n",
       "        -1.40692370e+16,  2.75447048e+18, -3.57335904e+18, -1.89805462e+18,\n",
       "         4.80182121e+16,  5.23909262e+15, -4.49495632e+18, -1.94167115e+18,\n",
       "        -1.60750296e+15, -3.37780980e+16,  1.24399153e+16,  3.82189803e+16,\n",
       "         2.13393845e+16, -1.61826048e+16, -9.50315000e+14, -1.11810227e+16,\n",
       "         1.13126555e+16, -1.09008878e+16, -2.62939097e+18, -8.73296220e+17,\n",
       "         3.48000140e+16,  5.27850403e+15, -2.56865071e+18, -8.30784482e+17,\n",
       "        -4.45684287e+14, -2.19341031e+16,  9.49766579e+15,  2.61055964e+16,\n",
       "         1.48242592e+16, -1.74755628e+16, -9.35118678e+14, -8.95183297e+15,\n",
       "         4.56972962e+15, -9.62233191e+15,  1.15497185e+17,  1.05954951e+15,\n",
       "         9.41581831e+14,  2.24136475e+17,  2.81700110e+17,  2.81882312e+14,\n",
       "         8.82344258e+14,  1.96998521e+14,  8.53711841e+14,  1.11859138e+15,\n",
       "         1.27512467e+15,  1.09215278e+14,  2.08316953e+14,  2.26875492e+14,\n",
       "        -4.71511382e+13,  2.45824665e+17, -8.02043793e+12, -2.05125755e+16,\n",
       "        -5.72172817e+15,  1.42757216e+14, -4.24154215e+14,  1.65328929e+14,\n",
       "         6.24685686e+13, -1.09464972e+14, -7.44348847e+14,  1.20068454e+14,\n",
       "         8.08614539e+14, -5.53627630e+13, -2.58431271e+14,  1.87020722e+17,\n",
       "         1.01529126e+18, -4.39685763e+18,  4.90726917e+16, -2.48430045e+17,\n",
       "         4.50942477e+16, -3.44608691e+16, -9.94864841e+16, -3.75435864e+17,\n",
       "         5.75278363e+16,  3.34102985e+17, -5.03807933e+16, -1.01841252e+17,\n",
       "        -8.22630522e+18, -3.62261446e+18,  4.66736037e+16, -2.19971772e+17,\n",
       "         5.24621329e+16,  1.90889310e+16, -6.64781094e+16, -3.26818627e+17,\n",
       "         5.25318064e+16,  2.90634409e+17, -3.72365137e+16, -9.80941668e+16,\n",
       "        -4.96671730e+18,  9.15691168e+13, -1.19245268e+14,  5.67381283e+13,\n",
       "         8.18647047e+13,  6.77320815e+13, -1.38941185e+14,  7.45129332e+13,\n",
       "         3.24494997e+14, -4.01135579e+12, -9.17022930e+13,  7.91117457e+16,\n",
       "        -1.27013132e+15,  1.36852301e+14,  3.13278821e+14, -7.42518362e+14,\n",
       "        -1.65344558e+15, -2.95627460e+13,  2.88217707e+14, -1.29218559e+14,\n",
       "        -2.74733115e+14,  3.51887011e+17,  3.08523991e+13,  1.62673199e+14,\n",
       "         1.51773627e+14,  1.82172422e+14,  1.98919237e+13,  5.35783860e+13,\n",
       "         3.67019796e+13, -7.83871470e+12,  4.38579801e+16,  1.42173309e+14,\n",
       "         5.22958013e+14,  2.48947457e+14,  1.36181766e+14,  3.52682247e+14,\n",
       "         7.08912714e+13, -1.52776737e+14, -1.35970194e+16, -3.37108356e+14,\n",
       "        -8.17568789e+14,  5.59391815e+13,  4.69855493e+14,  6.27760571e+13,\n",
       "        -2.31641344e+14,  3.79971006e+17, -2.11925436e+15,  5.23356147e+13,\n",
       "         4.82160296e+14, -1.18205308e+14, -4.37728692e+14,  1.61317647e+17,\n",
       "         6.10593461e+13,  1.36423395e+14,  7.23803973e+13, -4.64497352e+09,\n",
       "        -1.01034680e+17,  8.16290107e+14, -1.04100334e+14, -7.13633855e+12,\n",
       "        -3.67810585e+17,  7.62679261e+13, -3.37037933e+13,  1.39931021e+17,\n",
       "        -4.32010597e+13, -7.45136312e+15, -5.42591282e+17]))"
      ]
     },
     "execution_count": 89,
     "metadata": {},
     "output_type": "execute_result"
    }
   ],
   "source": [
    "lin = sgd_reg.fit(X_poly, y)\n",
    "lin.intercept_, lin.coef_"
   ]
  },
  {
   "cell_type": "code",
   "execution_count": 90,
   "metadata": {},
   "outputs": [],
   "source": [
    "from sklearn.metrics import mean_squared_error\n",
    "from sklearn.model_selection import train_test_split"
   ]
  },
  {
   "cell_type": "code",
   "execution_count": 91,
   "metadata": {},
   "outputs": [],
   "source": [
    "def plot_learning_curves(model, X, y):\n",
    "    X_train, X_val, y_train, y_val = train_test_split(X, y, test_size=0.2)\n",
    "    train_errors, val_errors = [], []\n",
    "    for m in range(1, len(X_train)):\n",
    "        model.fit(X_train[:m], y_train[:m])\n",
    "        y_train_predict = model.predict(X_train[:m])\n",
    "        y_val_predict = model.predict(X_val)\n",
    "        train_errors.append(mean_squared_error(y_train[:m], y_train_predict))\n",
    "        val_errors.append(mean_squared_error(y_val, y_val_predict))\n",
    "        plt.plot(np.sqrt(train_errors), \"r-+\", linewidth=2, label=\"train\")\n",
    "        plt.plot(np.sqrt(val_errors), \"b-\", linewidth=3, label=\"val\")"
   ]
  },
  {
   "cell_type": "code",
   "execution_count": 92,
   "metadata": {},
   "outputs": [
    {
     "data": {
      "image/png": "[encoded data removed]",
      "text/plain": [
       "<Figure size 432x288 with 1 Axes>"
      ]
     },
     "metadata": {},
     "output_type": "display_data"
    }
   ],
   "source": [
    "plot_learning_curves(sgd_reg, X, y)"
   ]
  },
  {
   "cell_type": "code",
   "execution_count": 93,
   "metadata": {},
   "outputs": [
    {
     "ename": "ImportError",
     "evalue": "cannot import name 'LGBMRegressor' from 'sklearn.ensemble' (C:\\Users\\21260\\anaconda3\\lib\\site-packages\\sklearn\\ensemble\\__init__.py)",
     "output_type": "error",
     "traceback": [
      "\u001b[1;31m---------------------------------------------------------------------------\u001b[0m",
      "\u001b[1;31mImportError\u001b[0m                               Traceback (most recent call last)",
      "\u001b[1;32m<ipython-input-93-59bb00f5e31f>\u001b[0m in \u001b[0;36m<module>\u001b[1;34m\u001b[0m\n\u001b[0;32m      9\u001b[0m \u001b[1;32mfrom\u001b[0m \u001b[0msklearn\u001b[0m\u001b[1;33m.\u001b[0m\u001b[0mensemble\u001b[0m \u001b[1;32mimport\u001b[0m \u001b[0mStackingRegressor\u001b[0m\u001b[1;33m\u001b[0m\u001b[1;33m\u001b[0m\u001b[0m\n\u001b[0;32m     10\u001b[0m \u001b[1;33m\u001b[0m\u001b[0m\n\u001b[1;32m---> 11\u001b[1;33m \u001b[1;32mfrom\u001b[0m \u001b[0msklearn\u001b[0m\u001b[1;33m.\u001b[0m\u001b[0mensemble\u001b[0m \u001b[1;32mimport\u001b[0m \u001b[0mLGBMRegressor\u001b[0m\u001b[1;33m\u001b[0m\u001b[1;33m\u001b[0m\u001b[0m\n\u001b[0m\u001b[0;32m     12\u001b[0m \u001b[1;32mfrom\u001b[0m \u001b[0msklearn\u001b[0m\u001b[1;33m.\u001b[0m\u001b[0mlightgbm\u001b[0m \u001b[1;32mimport\u001b[0m \u001b[0mLGBMRegressor\u001b[0m\u001b[1;33m\u001b[0m\u001b[1;33m\u001b[0m\u001b[0m\n\u001b[0;32m     13\u001b[0m \u001b[1;32mfrom\u001b[0m \u001b[0mmlxtend\u001b[0m\u001b[1;33m.\u001b[0m\u001b[0mregressor\u001b[0m \u001b[1;32mimport\u001b[0m \u001b[0mStackingCVRegressor\u001b[0m\u001b[1;33m\u001b[0m\u001b[1;33m\u001b[0m\u001b[0m\n",
      "\u001b[1;31mImportError\u001b[0m: cannot import name 'LGBMRegressor' from 'sklearn.ensemble' (C:\\Users\\21260\\anaconda3\\lib\\site-packages\\sklearn\\ensemble\\__init__.py)"
     ]
    }
   ],
   "source": [
    "from sklearn.model_selection import KFold\n",
    "from sklearn.pipeline import make_pipeline\n",
    "from sklearn.preprocessing import RobustScaler\n",
    "from sklearn.linear_model import RidgeCV\n",
    "from sklearn.linear_model import LassoCV\n",
    "from sklearn.linear_model import ElasticNetCV\n",
    "from sklearn.svm import SVR\n",
    "from sklearn.ensemble import GradientBoostingRegressor\n",
    "from sklearn.ensemble import StackingRegressor\n",
    "\n",
    "from sklearn.ensemble import LGBMRegressor\n",
    "from sklearn.lightgbm import LGBMRegressor\n",
    "from mlxtend.regressor import StackingCVRegressor"
   ]
  },
  {
   "cell_type": "code",
   "execution_count": null,
   "metadata": {},
   "outputs": [],
   "source": [
    "from sklearn.model_selection import cross_val_score\n",
    "from sklearn.metrics  import mean_squared_error\n",
    "\n",
    "kfolds = KFold(n_splits=10, shuffle=True, random_state=42)\n",
    "\n",
    "def rmsle(y, y_pred):\n",
    "    return np.sqrt(mean_squared_error(y, y_pred))\n",
    "\n",
    "def cv_rmse(model, X=X):\n",
    "    rmse = np.sqrt(-cross_val_score(model, X, y, scoring=\"neg_mean_squared_error\", cv=kfolds))\n",
    "    return (rmse)"
   ]
  },
  {
   "cell_type": "code",
   "execution_count": null,
   "metadata": {},
   "outputs": [],
   "source": [
    "alphas_alt = [14.5, 14.6, 14.7, 14.8, 14.9, 15, 15.1, 15.2, 15.3, 15.4, 15.5]\n",
    "alphas2 = [5e-05, 0.0001, 0.0002, 0.0003, 0.0004, 0.0005, 0.0006, 0.0007, 0.0008]\n",
    "e_alphas = [0.0001, 0.0002, 0.0003, 0.0004, 0.0005, 0.0006, 0.0007]\n",
    "e_l1ratio = [0.8, 0.85, 0.9, 0.95, 0.99, 1]"
   ]
  },
  {
   "cell_type": "code",
   "execution_count": null,
   "metadata": {},
   "outputs": [],
   "source": [
    "ridge = make_pipeline(RobustScaler(), RidgeCV(alphas=alphas_alt, cv=kfolds))\n",
    "lasso = make_pipeline(RobustScaler(), LassoCV(max_iter=1e7, alphas=alphas2, random_state=42, cv=kfolds))\n",
    "elasticnet = make_pipeline(RobustScaler(), ElasticNetCV(max_iter=1e7, alphas=e_alphas, cv=kfolds, l1_ratio=e_l1ratio))                                \n",
    "svr = make_pipeline(RobustScaler(), SVR(C= 20, epsilon= 0.008, gamma=0.0003,))"
   ]
  },
  {
   "cell_type": "code",
   "execution_count": null,
   "metadata": {},
   "outputs": [],
   "source": [
    "gbr = GradientBoostingRegressor(n_estimators=3000, learning_rate=0.05, max_depth=4, max_features='sqrt', min_samples_leaf=15, min_samples_split=10, loss='huber', random_state =42)"
   ]
  },
  {
   "cell_type": "code",
   "execution_count": null,
   "metadata": {},
   "outputs": [],
   "source": [
    "lightgbm = LGBMRegressor(objective='regression', \n",
    "                                       num_leaves=4,\n",
    "                                       learning_rate=0.01, \n",
    "                                       n_estimators=5000,\n",
    "                                       max_bin=200, \n",
    "                                       bagging_fraction=0.75,\n",
    "                                       bagging_freq=5, \n",
    "                                       bagging_seed=7,\n",
    "                                       feature_fraction=0.2,\n",
    "                                       feature_fraction_seed=7,\n",
    "                                       verbose=-1,\n",
    "                                       )"
   ]
  },
  {
   "cell_type": "code",
   "execution_count": null,
   "metadata": {},
   "outputs": [],
   "source": [
    "stack_gen = StackingCVRegressor(regressors=(ridge, lasso, elasticnet, gbr,lightgbm),\n",
    "                                meta_regressor=lasso,\n",
    "                                use_features_in_secondary=True)"
   ]
  },
  {
   "cell_type": "code",
   "execution_count": null,
   "metadata": {},
   "outputs": [],
   "source": [
    "score = cv_rmse(stack_gen_model)\n",
    "\n",
    "print(\"gbr: {:.4f} ({:.4f})\\n\".format(score.mean(), score.std()), datetime.now(), )"
   ]
  },
  {
   "cell_type": "code",
   "execution_count": null,
   "metadata": {},
   "outputs": [],
   "source": [
    "print('START Fit')\n",
    "\n",
    "print('stack_gen')\n",
    "stack_gen_model = stack_gen.fit(np.array(X), np.array(y))\n",
    "\n",
    "print('elasticnet')\n",
    "elastic_model_full_data = elasticnet.fit(X, y)\n",
    "\n",
    "print('Lasso')\n",
    "lasso_model_full_data = lasso.fit(X, y)\n",
    "\n",
    "print('Ridge')\n",
    "ridge_model_full_data = ridge.fit(X, y)\n",
    "\n",
    "print('Svr')\n",
    "svr_model_full_data = svr.fit(X, y)\n",
    "\n",
    "print('GradientBoosting')\n",
    "gbr_model_full_data = gbr.fit(X, y)\n",
    "\n",
    "print('lightgbm')\n",
    "lgb_model_full_data = lightgbm.fit(X, y)"
   ]
  }
 ],
 "metadata": {
  "kernelspec": {
   "display_name": "Python 3",
   "language": "python",
   "name": "python3"
  },
  "language_info": {
   "codemirror_mode": {
    "name": "ipython",
    "version": 3
   },
   "file_extension": ".py",
   "mimetype": "text/x-python",
   "name": "python",
   "nbconvert_exporter": "python",
   "pygments_lexer": "ipython3",
   "version": "3.7.6"
  }
 },
 "nbformat": 4,
 "nbformat_minor": 4
}
